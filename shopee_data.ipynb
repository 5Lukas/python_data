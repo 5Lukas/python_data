{
 "cells": [
  {
   "cell_type": "code",
   "execution_count": null,
   "id": "bd9b0740-a8ba-4356-a164-5cc0e375f834",
   "metadata": {},
   "outputs": [],
   "source": [
    "import requests\n",
    "import json\n",
    "import matplotlib.pyplot as plt\n",
    "import seaborn as sns\n",
    "import pandas as pd\n",
    "import numpy as np\n",
    "from statsmodels.stats.weightstats import ztest\n",
    "from scipy.stats import ttest_ind\n",
    "import statsmodels.api as sm\n",
    "plt.rcParams['font.sans-serif'] = ['SimHei']\n",
    "plt.rcParams['axes.unicode_minus'] = False\n",
    "from openai import OpenAI\n",
    "from selenium import webdriver\n",
    "from selenium.webdriver.chrome.service import Service\n",
    "from selenium.webdriver.common.by import By\n",
    "from selenium.webdriver.common.keys import Keys\n",
    "from selenium.webdriver.chrome.options import Options\n",
    "import time\n",
    "from selenium.webdriver.support.ui import WebDriverWait\n",
    "from selenium.webdriver.support import expected_conditions as EC\n",
    "from random import randint"
   ]
  },
  {
   "cell_type": "markdown",
   "id": "876422e1-8a40-4cb2-bb77-f5d169edab3f",
   "metadata": {},
   "source": [
    "##### 创建浏览器窗口"
   ]
  },
  {
   "cell_type": "code",
   "execution_count": null,
   "id": "4a031e7c-4fa2-459b-b026-cc434483b508",
   "metadata": {},
   "outputs": [],
   "source": [
    "options = Options()\n",
    "options.add_argument(\"user-agent=Mozilla/5.0 (Windows NT 10.0; Win64; x64) AppleWebKit/537.36 (KHTML, like Gecko) Chrome/88.0.4324.150 Safari/537.36\")\n",
    "options.add_argument(\"--disable-blink-features=AutomationControlled\")\n",
    "options.add_experimental_option('excludeSwitches', ['enable-automation'])\n",
    "options.add_experimental_option('useAutomationExtension', False)\n",
    "\n",
    "# 启动Chrome\n",
    "service = Service('./chromedriver.exe')  # 确保chromedriver.exe的路径正确\n",
    "driver = webdriver.Chrome(service=service, options=options)"
   ]
  },
  {
   "cell_type": "code",
   "execution_count": null,
   "id": "862fe009-fca1-482f-b5fc-d15155371266",
   "metadata": {},
   "outputs": [],
   "source": [
    "# 打开目标网页\n",
    "driver.get('https://shopee.co.id/Popok-Pispot-cat.11043350.11043433')"
   ]
  },
  {
   "cell_type": "code",
   "execution_count": null,
   "id": "c3e0265d-1ad8-4dac-9f72-660b98b33675",
   "metadata": {},
   "outputs": [],
   "source": [
    "options = Options()\n",
    "options.add_argument(\"user-agent=Mozilla/5.0 (Windows NT 10.0; Win64; x64) AppleWebKit/537.36 (KHTML, like Gecko) Chrome/88.0.4324.150 Safari/537.36\")\n",
    "options.add_argument(\"--disable-blink-features=AutomationControlled\")\n",
    "options.add_experimental_option('excludeSwitches', ['enable-automation'])\n",
    "options.add_experimental_option('useAutomationExtension', False)\n",
    "\n",
    "# 启动Chrome\n",
    "service = Service('./chromedriver.exe')  # 确保chromedriver.exe的路径正确\n",
    "driver = webdriver.Chrome(service=service, options=options)\n",
    "# 打开目标网页\n",
    "driver.get('https://shopee.co.id/Popok-Pispot-cat.11043350.11043433')\n",
    "cookies = [\n",
    "    {'name': '__LOCALE__null', 'value': 'ID', 'domain': '.shopee.co.id', 'path': '/', 'secure': True, 'httpOnly': True},\n",
    "    {'name': 'SPC_P_V', 'value': '3gZAmeRpeYJ2X0uxId1XcHRHjz8vhxe7ZW9S4c+ReB7LSGF1xWKGugIjY256ROeqlbDAwxP2ZbvXsLijk7Y+Tv5i/P3ULuc4w0ERIWISWf0n9GEFPefPD8r/rMiw7dDHxG5okQvyGlmi6tja8abtu+vVj+XOO8HkmmtyKn+Wog4=', 'domain': '.shopee.co.id', 'path': '/', 'secure': True, 'httpOnly': True},\n",
    "    {'name': 'csrftoken', 'value': 'Q3hpwm3VyQEUFawUTIVBlIxQkXmdOqRl', 'domain': '.shopee.co.id', 'path': '/', 'secure': True, 'httpOnly': True},\n",
    "    {'name': '_sapid', 'value': '12333ddf8f13cdba105ba2eb0d2d6e3fa443704782421c1774c00aa0', 'domain': '.shopee.co.id', 'path': '/', 'secure': True, 'httpOnly': True},\n",
    "    # 添加更多的Cookies\n",
    "]\n",
    "\n",
    "for cookie in cookies:\n",
    "    driver.add_cookie(cookie)\n",
    "# 打开目标网页\n",
    "driver.get('https://shopee.co.id/Popok-Pispot-cat.11043350.11043433')"
   ]
  },
  {
   "cell_type": "code",
   "execution_count": null,
   "id": "44eaa667-f9c1-46a0-bcaf-d139886c9c61",
   "metadata": {},
   "outputs": [],
   "source": [
    "# 打开目标网页\n",
    "driver.get('https://shopee.co.id/Popok-Pispot-cat.11043350.11043433')"
   ]
  },
  {
   "cell_type": "markdown",
   "id": "35b76345-5431-4f87-b0b5-a7c6e0a493e3",
   "metadata": {},
   "source": [
    "##### 输入用户名登录"
   ]
  },
  {
   "cell_type": "code",
   "execution_count": null,
   "id": "9d581164-e143-4cea-a19d-bc5ca70ec5c6",
   "metadata": {},
   "outputs": [],
   "source": [
    "# 等待页面加载（根据实际情况，可能需要调整等待时间）\n",
    "time.sleep(randint(1, 5))\n",
    "driver.implicitly_wait(10)\n",
    "wait = WebDriverWait(driver, 30)\n",
    "time.sleep(randint(1, 5))\n",
    "# 使用XPath定位用户名输入框\n",
    "wait.until(EC.presence_of_element_located((By.XPATH, '//input[@type=\"text\"]')))\n",
    "username_input = driver.find_element(By.XPATH, '//input[@type=\"text\"]')\n",
    "time.sleep(randint(1, 5))\n",
    "# 使用XPath定位密码输入框\n",
    "wait.until(EC.presence_of_element_located((By.XPATH, '//input[@type=\"password\"]')))\n",
    "password_input = driver.find_element(By.XPATH, '//input[@type=\"password\"]')\n",
    "time.sleep(randint(1, 5))\n",
    "# 输入用户名和密码\n",
    "username_input.send_keys('(+62) 851 7341 3262')  # 替换为你的用户名\n",
    "password_input.send_keys('123123Xue')  # 替换为你的密码"
   ]
  },
  {
   "cell_type": "code",
   "execution_count": null,
   "id": "15ff0a1a-3e66-4912-afc4-96902faa1f53",
   "metadata": {},
   "outputs": [],
   "source": [
    "# 定位登录按钮并点击（这里假设按钮可以通过文本内容“LOG IN”来定位）\n",
    "login_button = driver.find_element(By.XPATH, '//button[contains(text(), \"Log in\")]')\n",
    "login_button.click()\n",
    "\n",
    "# 等待新的页面元素加载，以确保登录成功\n",
    "driver.implicitly_wait(10)"
   ]
  },
  {
   "cell_type": "markdown",
   "id": "fdd8ff24-600b-4ee6-823e-bc1729f92ef2",
   "metadata": {},
   "source": [
    "##### 谷歌登录"
   ]
  },
  {
   "cell_type": "code",
   "execution_count": null,
   "id": "2452b4a8-dbbe-417d-ae76-4e59a6e82436",
   "metadata": {},
   "outputs": [],
   "source": [
    "# 点击谷歌登录按钮\n",
    "wait = WebDriverWait(driver, 30)\n",
    "wait.until(EC.presence_of_element_located((By.XPATH, '//button[.//div[text()=\"Google\"]]')))\n",
    "time.sleep(2)\n",
    "google_login_button = driver.find_element(By.XPATH, '//button[.//div[text()=\"Google\"]]')\n",
    "driver.execute_script(\"arguments[0].click();\", google_login_button)\n",
    "# 获取当前窗口句柄\n",
    "main_window_handle = driver.current_window_handle\n",
    "# 等待新窗口出现\n",
    "driver.implicitly_wait(10)\n",
    "\n",
    "# 获取所有窗口句柄\n",
    "all_window_handles = driver.window_handles\n",
    "# 切换到新窗口\n",
    "for window_handle in all_window_handles:\n",
    "    if window_handle != main_window_handle:\n",
    "        driver.switch_to.window(window_handle)\n",
    "        break\n",
    "# 使用XPath定位用户名输入框\n",
    "driver.implicitly_wait(10)\n",
    "wait.until(EC.presence_of_element_located((By.XPATH, '//input[@type=\"email\"]')))\n",
    "time.sleep(3.2)\n",
    "gmail_input = driver.find_element(By.XPATH, '//input[@type=\"email\"]')\n",
    "# 输入用户名和密码\n",
    "gmail_input.send_keys('lhjlhj11111@gmail.com')  # 替换为你的gmail"
   ]
  },
  {
   "cell_type": "code",
   "execution_count": null,
   "id": "26eee474-1ba2-4d69-993f-8119cae8262b",
   "metadata": {},
   "outputs": [],
   "source": [
    "#点击下一步\n",
    "time.sleep(randint(1, 5))\n",
    "email_next_button = driver.find_element(By.XPATH, \"//button[.//span[text()='下一步']]\")\n",
    "email_next_button.click()\n"
   ]
  },
  {
   "cell_type": "code",
   "execution_count": null,
   "id": "243eb509-1b35-4f57-9705-4d027640c278",
   "metadata": {},
   "outputs": [],
   "source": [
    "# 使用XPath定位用户名输入框\n",
    "driver.implicitly_wait(10)\n",
    "wait.until(EC.presence_of_element_located((By.XPATH, '//input[@type=\"password\"]')))\n",
    "time.sleep(randint(1, 5))\n",
    "gpassword_input = driver.find_element(By.XPATH, '//input[@type=\"password\"]')\n",
    "# 输入用户名和密码\n",
    "gpassword_input.send_keys('lhj1997718')  # 替换为你的密码\n"
   ]
  },
  {
   "cell_type": "code",
   "execution_count": null,
   "id": "5cd447e9-71dd-4753-ba6d-8c3872c33b63",
   "metadata": {},
   "outputs": [],
   "source": [
    "#点击下一步\n",
    "time.sleep(randint(1, 5))\n",
    "password_next_button = driver.find_element(By.XPATH, \"//button[.//span[text()='下一步']]\")\n",
    "password_next_button.click()\n",
    "#点击Continue\n",
    "wait.until(EC.presence_of_element_located((By.XPATH, \"//button[.//span[text()='Continue']]\")))\n",
    "time.sleep(randint(1, 5))\n",
    "Continue_button = driver.find_element(By.XPATH, \"//button[.//span[text()='Continue']]\")\n",
    "Continue_button.click()\n",
    "driver.switch_to.window(main_window_handle)"
   ]
  },
  {
   "cell_type": "code",
   "execution_count": null,
   "id": "e47bd40f-4246-4879-9aee-f3ec2a4b7234",
   "metadata": {},
   "outputs": [],
   "source": [
    "driver.switch_to.window(main_window_handle)"
   ]
  },
  {
   "cell_type": "code",
   "execution_count": null,
   "id": "354fadec-a475-43eb-a581-c7da88bee6fa",
   "metadata": {},
   "outputs": [],
   "source": [
    "#滚动到底部加载动态元素\n",
    "last_height = driver.execute_script(\"return document.body.scrollHeight\")\n",
    "\n",
    "while True:\n",
    "    # Scroll down to the bottom of the page\n",
    "    driver.execute_script(\"window.scrollTo(0, document.body.scrollHeight);\")\n",
    "\n",
    "    # Wait for new page segment to load\n",
    "    time.sleep(randint(1, 5))\n",
    "\n",
    "    # Calculate new scroll height and compare with last scroll height\n",
    "    new_height = driver.execute_script(\"return document.body.scrollHeight\")\n",
    "    if new_height == last_height:\n",
    "        break\n",
    "    last_height = new_height\n"
   ]
  },
  {
   "cell_type": "code",
   "execution_count": null,
   "id": "88aa8bc8-da21-47c8-ac83-d863f1140245",
   "metadata": {},
   "outputs": [],
   "source": [
    "# 找到所有的class为'home-category-list__category-grid'的<a>元素\n",
    "category_links = driver.find_elements(By.CSS_SELECTOR, 'a.home-category-list__category-grid')\n",
    "\n",
    "# 获取所有找到元素的href属性\n",
    "href_values = [link.get_attribute('href') for link in category_links]\n",
    "for href in href_values:\n",
    "    print(href)"
   ]
  },
  {
   "cell_type": "code",
   "execution_count": null,
   "id": "05d5a82e-e587-4c41-975f-21f9e6feca92",
   "metadata": {},
   "outputs": [],
   "source": [
    "# 打开目标网页\n",
    "driver.get('https://shopee.co.id/Disposable-Diapers-cat.11043350.11043433.11043436')"
   ]
  },
  {
   "cell_type": "code",
   "execution_count": null,
   "id": "6c685b82-9ffb-406e-b1a7-9d7ebbb197f2",
   "metadata": {},
   "outputs": [],
   "source": []
  }
 ],
 "metadata": {
  "kernelspec": {
   "display_name": "Python 3 (ipykernel)",
   "language": "python",
   "name": "python3"
  },
  "language_info": {
   "codemirror_mode": {
    "name": "ipython",
    "version": 3
   },
   "file_extension": ".py",
   "mimetype": "text/x-python",
   "name": "python",
   "nbconvert_exporter": "python",
   "pygments_lexer": "ipython3",
   "version": "3.12.1"
  }
 },
 "nbformat": 4,
 "nbformat_minor": 5
}
